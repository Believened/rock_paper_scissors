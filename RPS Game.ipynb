{
 "cells": [
  {
   "cell_type": "code",
   "execution_count": 2,
   "id": "2f9125c5",
   "metadata": {
    "pycharm": {
     "name": "#%%\n"
    }
   },
   "outputs": [
    {
     "name": "stdout",
     "output_type": "stream",
     "text": [
      "rock...\n",
      "paper...\n",
      "scissors...\n",
      "please make your move: paper\n",
      "it's a tie\n"
     ]
    }
   ],
   "source": [
    "import random\n",
    "print(\"rock...\")\n",
    "print(\"paper...\")\n",
    "print(\"scissors...\")\n",
    "\n",
    "player=input(\"please make your move: \").lower()\n",
    "rand_num= random.randint(0,2)\n",
    "if rand_num==0:\n",
    "    computer= \"scissors\"\n",
    "elif rand_num==1:\n",
    "    computer= \"paper\"\n",
    "else:\n",
    "    computer=\"rock\"\n",
    "    \n",
    "if player==computer:\n",
    "    print(\"it's a tie\")\n",
    "elif player==\"rock\" and computer== \"paper\":\n",
    "    print(\"computer wins\")\n",
    "elif player==\"rock\" and computer== \"scissors\":\n",
    "    print(\"player wins\")\n",
    "elif player==\"paper\" and computer==\"rock\":\n",
    "    print(\"player wins\")\n",
    "elif player==\"paper\" and computer== \"scissors\":\n",
    "    print(\"computer wins\")\n",
    "elif player==\"scissors\" and computer==\"rock\":\n",
    "    print(\"computer wins\")\n",
    "elif player==\"scissors\" and computer==\"paper\":\n",
    "    print(\"player wins\")\n",
    "else:\n",
    "    print(\"enter a valid move\")"
   ]
  },
  {
   "cell_type": "code",
   "execution_count": null,
   "id": "553b5d94",
   "metadata": {},
   "outputs": [],
   "source": []
  }
 ],
 "metadata": {
  "kernelspec": {
   "display_name": "Python 3 (ipykernel)",
   "language": "python",
   "name": "python3"
  },
  "language_info": {
   "codemirror_mode": {
    "name": "ipython",
    "version": 3
   },
   "file_extension": ".py",
   "mimetype": "text/x-python",
   "name": "python",
   "nbconvert_exporter": "python",
   "pygments_lexer": "ipython3",
   "version": "3.9.12"
  }
 },
 "nbformat": 4,
 "nbformat_minor": 5
}
